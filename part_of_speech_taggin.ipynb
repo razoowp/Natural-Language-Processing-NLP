{
 "cells": [
  {
   "cell_type": "code",
   "execution_count": 1,
   "metadata": {},
   "outputs": [],
   "source": [
    "import nltk\n",
    "from nltk.tokenize import word_tokenize"
   ]
  },
  {
   "cell_type": "code",
   "execution_count": 2,
   "metadata": {},
   "outputs": [],
   "source": [
    "#sample_text = sate_union.raw('')\n",
    "sample_text = \"Hey! are you from Nepal. To be serious, you are looking really good mate. Fantastic.\""
   ]
  },
  {
   "cell_type": "code",
   "execution_count": 3,
   "metadata": {},
   "outputs": [
    {
     "data": {
      "text/plain": [
       "'Hey'"
      ]
     },
     "execution_count": 3,
     "metadata": {},
     "output_type": "execute_result"
    }
   ],
   "source": [
    "words = word_tokenize(sample_text)\n",
    "words[0]"
   ]
  },
  {
   "cell_type": "code",
   "execution_count": null,
   "metadata": {
    "collapsed": true
   },
   "outputs": [],
   "source": []
  },
  {
   "cell_type": "code",
   "execution_count": 4,
   "metadata": {},
   "outputs": [
    {
     "data": {
      "text/plain": [
       "[('Hey', 'NN'),\n",
       " ('!', '.'),\n",
       " ('are', 'VBP'),\n",
       " ('you', 'PRP'),\n",
       " ('from', 'IN'),\n",
       " ('Nepal', 'NNP'),\n",
       " ('.', '.'),\n",
       " ('To', 'TO'),\n",
       " ('be', 'VB'),\n",
       " ('serious', 'JJ'),\n",
       " (',', ','),\n",
       " ('you', 'PRP'),\n",
       " ('are', 'VBP'),\n",
       " ('looking', 'VBG'),\n",
       " ('really', 'RB'),\n",
       " ('good', 'JJ'),\n",
       " ('mate', 'NN'),\n",
       " ('.', '.'),\n",
       " ('Fantastic', 'NNP'),\n",
       " ('.', '.')]"
      ]
     },
     "execution_count": 4,
     "metadata": {},
     "output_type": "execute_result"
    }
   ],
   "source": [
    "nltk.pos_tag(word_tokenize(sample_text))"
   ]
  },
  {
   "cell_type": "code",
   "execution_count": 5,
   "metadata": {},
   "outputs": [
    {
     "data": {
      "text/plain": [
       "[('Hey', 'NN'),\n",
       " ('!', '.'),\n",
       " ('are', 'VBP'),\n",
       " ('you', 'PRP'),\n",
       " ('from', 'IN'),\n",
       " ('Nepal', 'NNP'),\n",
       " ('.', '.'),\n",
       " ('To', 'TO'),\n",
       " ('be', 'VB'),\n",
       " ('serious', 'JJ'),\n",
       " (',', ','),\n",
       " ('you', 'PRP'),\n",
       " ('are', 'VBP'),\n",
       " ('looking', 'VBG'),\n",
       " ('really', 'RB'),\n",
       " ('good', 'JJ'),\n",
       " ('mate', 'NN'),\n",
       " ('.', '.'),\n",
       " ('Fantastic', 'NNP'),\n",
       " ('.', '.')]"
      ]
     },
     "execution_count": 5,
     "metadata": {},
     "output_type": "execute_result"
    }
   ],
   "source": [
    "tokens = word_tokenize(sample_text)\n",
    "nltk.pos_tag(tokens)"
   ]
  },
  {
   "cell_type": "code",
   "execution_count": null,
   "metadata": {
    "collapsed": true
   },
   "outputs": [],
   "source": []
  },
  {
   "cell_type": "code",
   "execution_count": null,
   "metadata": {
    "collapsed": true
   },
   "outputs": [],
   "source": []
  }
 ],
 "metadata": {
  "kernelspec": {
   "display_name": "Python 3",
   "language": "python",
   "name": "python3"
  },
  "language_info": {
   "codemirror_mode": {
    "name": "ipython",
    "version": 3
   },
   "file_extension": ".py",
   "mimetype": "text/x-python",
   "name": "python",
   "nbconvert_exporter": "python",
   "pygments_lexer": "ipython3",
   "version": "3.6.3"
  }
 },
 "nbformat": 4,
 "nbformat_minor": 2
}
